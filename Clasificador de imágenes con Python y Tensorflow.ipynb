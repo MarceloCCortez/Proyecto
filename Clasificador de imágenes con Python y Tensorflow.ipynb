{
  "nbformat": 4,
  "nbformat_minor": 0,
  "metadata": {
    "colab": {
      "name": "Untitled1.ipynb",
      "private_outputs": true,
      "provenance": [],
      "authorship_tag": "ABX9TyNCf7Iir4FBjRttNqp6dNHI",
      "include_colab_link": true
    },
    "kernelspec": {
      "name": "python3",
      "display_name": "Python 3"
    },
    "language_info": {
      "name": "python"
    },
    "accelerator": "GPU"
  },
  "cells": [
    {
      "cell_type": "markdown",
      "metadata": {
        "id": "view-in-github",
        "colab_type": "text"
      },
      "source": [
        "<a href=\"https://colab.research.google.com/github/MarceloCCortez/Proyecto/blob/master/Clasificador%20de%20im%C3%A1genes%20con%20Python%20y%20Tensorflow.ipynb\" target=\"_parent\"><img src=\"https://colab.research.google.com/assets/colab-badge.svg\" alt=\"Open In Colab\"/></a>"
      ]
    },
    {
      "cell_type": "code",
      "metadata": {
        "id": "1A3Xdvuj0Xj8"
      },
      "source": [
        "import tensorflow as tf\n",
        "import tensorflow_datasets as tfds\n"
      ],
      "execution_count": null,
      "outputs": []
    },
    {
      "cell_type": "code",
      "metadata": {
        "id": "y2i9z_TFBViD"
      },
      "source": [
        "datos, metadatos = tfds.load('fashion_mnist',as_supervised=True,with_info=True)"
      ],
      "execution_count": null,
      "outputs": []
    },
    {
      "cell_type": "code",
      "metadata": {
        "id": "6QynRTvTBkHe"
      },
      "source": [
        "metadatos"
      ],
      "execution_count": null,
      "outputs": []
    },
    {
      "cell_type": "code",
      "metadata": {
        "id": "z9h_L-VWB0yC"
      },
      "source": [
        "datos_entrenamiento, datos_prueba = datos['train'], datos['test']"
      ],
      "execution_count": null,
      "outputs": []
    },
    {
      "cell_type": "code",
      "metadata": {
        "id": "zUVyNnDPB_73"
      },
      "source": [
        "nombres_clases =  metadatos.features['label'].names\n"
      ],
      "execution_count": null,
      "outputs": []
    },
    {
      "cell_type": "code",
      "metadata": {
        "id": "C7a20SLcCIIB"
      },
      "source": [
        "nombres_clases"
      ],
      "execution_count": null,
      "outputs": []
    },
    {
      "cell_type": "code",
      "metadata": {
        "id": "vl4kk7osCN0Z"
      },
      "source": [
        "#normalizar los datos (pasar de 0-255 a 0-1)\n",
        "def normalizar(imagenes,etiquetas):\n",
        "  imagenes = tf.cast(imagenes,tf.float32)\n",
        "  imagenes /= 255\n",
        "  return imagenes, etiquetas\n",
        "\n",
        "#Normalizar los datos de entrenamiento y pruebas con la funcion que hicimos \n",
        "datos_entrenamiento = datos_entrenamiento.map(normalizar)\n",
        "datos_prueba = datos_prueba.map(normalizar)\n",
        "#Agregar cache\n",
        "datos_entrenamiento = datos_entrenamiento.cache()\n",
        "datos_prueba = datos_prueba.cache()\n"
      ],
      "execution_count": null,
      "outputs": []
    },
    {
      "cell_type": "code",
      "metadata": {
        "id": "X_gEfBO3DBfb"
      },
      "source": [
        "#Mostrar imagenes de los datos de prueba\n",
        "for imagen, etiqueta in datos_entrenamiento.take(1):\n",
        "  break\n",
        "imagen = imagen.numpy().reshape((28,28)) #Redimensionar\n",
        "import matplotlib.pyplot as plt\n",
        "#Dibujar \n",
        "plt.figure()\n",
        "plt.imshow(imagen,cmap=plt.cm.binary)\n",
        "plt.colorbar()\n",
        "plt.grid(False)\n",
        "plt.show()"
      ],
      "execution_count": null,
      "outputs": []
    },
    {
      "cell_type": "code",
      "metadata": {
        "id": "btuiLhmcDkud"
      },
      "source": [
        "plt.figure(figsize=(10,10))\n",
        "for i,(imagen,etiqueta) in enumerate(datos_entrenamiento.take(25)):\n",
        "  imagen = imagen.numpy().reshape((28,28))\n",
        "  plt.subplot(5,5,i+1)\n",
        "  plt.xticks([])\n",
        "  plt.yticks([])\n",
        "  plt.grid(False)\n",
        "  plt.imshow(imagen,cmap=plt.cm.binary)\n",
        "  plt.xlabel(nombres_clases[etiqueta])\n",
        "plt.show()"
      ],
      "execution_count": null,
      "outputs": []
    },
    {
      "cell_type": "code",
      "metadata": {
        "id": "nQg5cGqTEW7g"
      },
      "source": [
        "#Crear modelo\n",
        "modelo = tf.keras.Sequential([\n",
        "    tf.keras.layers.Flatten(input_shape=(28,28,1)),\n",
        "    tf.keras.layers.Dense(50,activation=tf.nn.relu),\n",
        "    tf.keras.layers.Dense(50,activation=tf.nn.relu),\n",
        "    tf.keras.layers.Dense(10,activation=tf.nn.softmax) #Para darle la clasificacion \n",
        "])"
      ],
      "execution_count": null,
      "outputs": []
    },
    {
      "cell_type": "code",
      "metadata": {
        "id": "YBIdd9JcE_SP"
      },
      "source": [
        "#compilar el modelo\n",
        "modelo.compile(\n",
        "    optimizer= 'adam',\n",
        "    loss= tf.keras.losses.SparseCategoricalCrossentropy(),\n",
        "    metrics=['accuracy']\n",
        "    )"
      ],
      "execution_count": null,
      "outputs": []
    },
    {
      "cell_type": "code",
      "metadata": {
        "id": "7Kb_eiAFGHiJ"
      },
      "source": [
        "num_ej_entrenamiento= metadatos.splits['train'].num_examples\n",
        "num_ej_pruebas = metadatos.splits['test'].num_examples"
      ],
      "execution_count": null,
      "outputs": []
    },
    {
      "cell_type": "code",
      "metadata": {
        "id": "RKkC1-8wGU2h"
      },
      "source": [
        "print(num_ej_entrenamiento)\n",
        "print(num_ej_pruebas)"
      ],
      "execution_count": null,
      "outputs": []
    },
    {
      "cell_type": "code",
      "metadata": {
        "id": "Cds2cYE0F3k8"
      },
      "source": [
        "TAMANO_LOTE = 32\n",
        "datos_entrenamiento = datos_entrenamiento.repeat().shuffle(num_ej_entrenamiento).batch(TAMANO_LOTE)\n",
        "datos_prueba = datos_prueba.batch(TAMANO_LOTE)"
      ],
      "execution_count": null,
      "outputs": []
    },
    {
      "cell_type": "code",
      "metadata": {
        "id": "JM6L7vVYGlPy"
      },
      "source": [
        "import math \n",
        "#entrenar\n",
        "historial = modelo.fit(datos_entrenamiento,epochs=5,steps_per_epoch=math.ceil(num_ej_entrenamiento/TAMANO_LOTE))"
      ],
      "execution_count": null,
      "outputs": []
    },
    {
      "cell_type": "code",
      "metadata": {
        "id": "ZVu4fq_AG4jC"
      },
      "source": [
        "plt.xlabel('# Epoca')\n",
        "plt.ylabel('Magnitud de perdida')\n",
        "plt.plot(historial.history['loss'])"
      ],
      "execution_count": null,
      "outputs": []
    },
    {
      "cell_type": "code",
      "metadata": {
        "id": "EJYWfyGgJFTN"
      },
      "source": [
        "import numpy as np\n",
        "\n",
        "for imagenes_prueba, etiquetas_prueba in datos_prueba.take(1):\n",
        "  imagenes_pruebas = imagenes_prueba.numpy()\n",
        "  etiquetas_prueba = etiquetas_prueba.numpy()\n",
        "  predicciones = modelo.predict(imagenes_prueba)\n",
        "def graficar_imagen(i,arr_predicciones,etiquetas_reales,imagenes):\n",
        "  arr_predicciones, etiqueta_real, img = arr_predicciones[i], etiquetas_reales[i], imagenes[i]\n",
        "  plt.grid(False)\n",
        "  plt.xticks([])\n",
        "  plt.yticks([])\n",
        "  plt.imshow(img[...,0],cmap=plt.cm.binary)\n",
        "  etiqueta_prediccion = np.argmax(arr_predicciones)\n",
        "  if etiqueta_prediccion == etiqueta_real:\n",
        "    color = 'blue' # Si le atino\n",
        "  else:\n",
        "    color = 'red' #OOps no le atino\n",
        "  plt.xlabel(\"{}{:2.0f}% ({})\".format(\n",
        "      nombres_clases[etiqueta_prediccion],\n",
        "      100*np.max(arr_predicciones),\n",
        "      nombres_clases[etiqueta_real],\n",
        "      color=color\n",
        "  ))\n",
        "def graficar_valor_arreglo(i,arr_predicciones,etiqueta_real):\n",
        "  arr_predicciones,etiqueta_real = arr_predicciones[i],etiqueta_real[i]\n",
        "  plt.grid(False)\n",
        "  plt.xticks([])\n",
        "  plt.yticks([])\n",
        "  grafica = plt.bar(range(10),arr_predicciones, color= \"#777777\")\n",
        "  plt.ylim([0,1])\n",
        "  etiqueta_prediccion=np.argmax(arr_predicciones)\n",
        "  grafica[etiqueta_prediccion].set_color('red')\n",
        "  grafica[etiqueta_real].set_color('blue')\n",
        "filas = 5\n",
        "columnas = 5\n",
        "num_imagenes = filas*columnas\n",
        "plt.figure(figsize=(2*2*columnas,2*filas))\n",
        "for i in range(num_imagenes):\n",
        "  plt.subplot(filas,2*columnas,2*i+1)\n",
        "  graficar_imagen(i,predicciones,etiquetas_prueba,imagenes_prueba)\n",
        "  plt.subplot(filas,2*columnas,2*i+2)\n",
        "  graficar_valor_arreglo(i,predicciones,etiquetas_prueba)"
      ],
      "execution_count": null,
      "outputs": []
    },
    {
      "cell_type": "code",
      "metadata": {
        "id": "CTdshm8cMs9J"
      },
      "source": [
        "#Probar una imagen suelta\n",
        "imagen = imagenes_prueba[4] #AL ser la variable imagenes_prueba solo tiene lo que se le puso en el bloque anterior heheh\n",
        "imagen = np.array([imagen])\n",
        "prediccion = modelo.predict(imagen)\n",
        "\n",
        "print(\"Prediccion: \" + nombres_clases[np.argmax(prediccion[0])])"
      ],
      "execution_count": null,
      "outputs": []
    },
    {
      "cell_type": "code",
      "metadata": {
        "id": "ECU4HAJVOSfQ"
      },
      "source": [
        ""
      ],
      "execution_count": null,
      "outputs": []
    }
  ]
}